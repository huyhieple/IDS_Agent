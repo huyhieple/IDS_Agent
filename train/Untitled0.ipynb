{
  "cells": [
    {
      "cell_type": "code",
      "execution_count": 3,
      "metadata": {
        "colab": {
          "base_uri": "https://localhost:8080/"
        },
        "id": "2ZxaixzAp_wU",
        "outputId": "bd1a9ea8-4af7-4160-860b-842abbcb8dad"
      },
      "outputs": [
        {
          "name": "stderr",
          "output_type": "stream",
          "text": [
            "C:\\Users\\Admin\\AppData\\Local\\Packages\\PythonSoftwareFoundation.Python.3.11_qbz5n2kfra8p0\\LocalCache\\local-packages\\Python311\\site-packages\\sklearn\\metrics\\_classification.py:1565: UndefinedMetricWarning: Precision is ill-defined and being set to 0.0 in labels with no predicted samples. Use `zero_division` parameter to control this behavior.\n",
            "  _warn_prf(average, modifier, f\"{metric.capitalize()} is\", len(result))\n"
          ]
        },
        {
          "name": "stdout",
          "output_type": "stream",
          "text": [
            "\n",
            "Chỉ số đánh giá cho Logistic Regression:\n",
            "Accuracy: 0.8490\n",
            "Macro Precision: 0.7640\n",
            "Macro Recall: 0.7129\n",
            "Macro F1-Score: 0.7000\n",
            "\n",
            "Chỉ số đánh giá cho Decision Tree:\n",
            "Accuracy: 0.9802\n",
            "Macro Precision: 0.9099\n",
            "Macro Recall: 0.9038\n",
            "Macro F1-Score: 0.9065\n",
            "Mô hình logistic_regression đã được lưu tại: D:/UIT 2025-2026/Hocmay/Project/IDS_Agent/train/logistic_regression.pkl\n",
            "Mô hình decision_tree đã được lưu tại: D:/UIT 2025-2026/Hocmay/Project/IDS_Agent/train/decision_tree.pkl\n"
          ]
        },
        {
          "name": "stderr",
          "output_type": "stream",
          "text": [
            "C:\\Users\\Admin\\AppData\\Local\\Packages\\PythonSoftwareFoundation.Python.3.11_qbz5n2kfra8p0\\LocalCache\\local-packages\\Python311\\site-packages\\sklearn\\metrics\\_classification.py:1565: UndefinedMetricWarning: Precision is ill-defined and being set to 0.0 in labels with no predicted samples. Use `zero_division` parameter to control this behavior.\n",
            "  _warn_prf(average, modifier, f\"{metric.capitalize()} is\", len(result))\n"
          ]
        }
      ],
      "source": [
        "import pickle\n",
        "import pandas as pd\n",
        "import numpy as np\n",
        "from sklearn.linear_model import LogisticRegression\n",
        "from sklearn.tree import DecisionTreeClassifier\n",
        "from sklearn.metrics import accuracy_score, precision_recall_fscore_support\n",
        "import joblib\n",
        "import os\n",
        "\n",
        "# Đường dẫn trên Kaggle\n",
        "train_file = 'aci_iot_train.csv'\n",
        "test_file = 'aci_iot_test.csv'\n",
        "\n",
        "# Kiểm tra file tồn tại\n",
        "if not os.path.exists(train_file) or not os.path.exists(test_file):\n",
        "    print(f\"Error: One or both files not found: {train_file}, {test_file}\")\n",
        "    exit(1)\n",
        "\n",
        "# Đọc dữ liệu\n",
        "train_df = pd.read_csv(train_file)\n",
        "test_df = pd.read_csv(test_file)\n",
        "\n",
        "# Tách đặc trưng và nhãn\n",
        "X_train = train_df.drop(columns=['Label'])\n",
        "y_train = train_df['Label']\n",
        "X_test = test_df.drop(columns=['Label'])\n",
        "y_test = test_df['Label']\n",
        "\n",
        "# Huấn luyện và đánh giá mô hình\n",
        "def train_and_evaluate_model(model, model_name, X_train, y_train, X_test, y_test):\n",
        "    # Huấn luyện mô hình\n",
        "    model.fit(X_train, y_train)\n",
        "\n",
        "    # Dự đoán trên tập kiểm tra\n",
        "    y_pred = model.predict(X_test)\n",
        "\n",
        "    # Tính các chỉ số đánh giá\n",
        "    accuracy = accuracy_score(y_test, y_pred)\n",
        "    precision, recall, f1, _ = precision_recall_fscore_support(y_test, y_pred, average='macro')\n",
        "\n",
        "    # In các chỉ số\n",
        "    print(f\"\\nChỉ số đánh giá cho {model_name}:\")\n",
        "    print(f\"Accuracy: {accuracy:.4f}\")\n",
        "    print(f\"Macro Precision: {precision:.4f}\")\n",
        "    print(f\"Macro Recall: {recall:.4f}\")\n",
        "    print(f\"Macro F1-Score: {f1:.4f}\")\n",
        "\n",
        "    return model\n",
        "\n",
        "# Lưu mô hình\n",
        "# def save_model(model, model_name):\n",
        "#     output_dir = '/kaggle/working/saved_models'\n",
        "#     os.makedirs(output_dir, exist_ok=True)\n",
        "#     model_path = os.path.join(output_dir, f'{model_name}.joblib')\n",
        "#     joblib.dump(model, model_path)\n",
        "#     print(f\"Mô hình {model_name} đã được lưu tại: {model_path}\")\n",
        "\n",
        "\n",
        "# Lưu mô hình bằng .pkl\n",
        "def save_model_pkl(model, model_name):\n",
        "    output_dir = 'D:/UIT 2025-2026/Hocmay/Project/IDS_Agent/train/'\n",
        "    os.makedirs(output_dir, exist_ok=True)\n",
        "    model_path = os.path.join(output_dir, f'{model_name}.pkl')\n",
        "    with open(model_path, 'wb') as f:\n",
        "        pickle.dump(model, f)\n",
        "    print(f\"Mô hình {model_name} đã được lưu tại: {model_path}\")\n",
        "\n",
        "\n",
        "# Khởi tạo mô hình\n",
        "lr_model = LogisticRegression(max_iter=1000, random_state=42)\n",
        "dt_model = DecisionTreeClassifier(random_state=42)\n",
        "\n",
        "# Huấn luyện và đánh giá Logistic Regression\n",
        "lr_model = train_and_evaluate_model(lr_model, \"Logistic Regression\", X_train, y_train, X_test, y_test)\n",
        "\n",
        "# Huấn luyện và đánh giá Decision Tree\n",
        "dt_model = train_and_evaluate_model(dt_model, \"Decision Tree\", X_train, y_train, X_test, y_test)\n",
        "\n",
        "# Lưu mô hình\n",
        "save_model_pkl(lr_model, \"logistic_regression\")\n",
        "save_model_pkl(dt_model, \"decision_tree\")"
      ]
    },
    {
      "cell_type": "code",
      "execution_count": 1,
      "metadata": {
        "colab": {
          "base_uri": "https://localhost:8080/"
        },
        "id": "ZELTYK0MqFhX",
        "outputId": "0f957217-c1ce-4738-beae-2d6e16ac3811"
      },
      "outputs": [
        {
          "name": "stdout",
          "output_type": "stream",
          "text": [
            "Mounted at /content/drive\n"
          ]
        }
      ],
      "source": [
        "from google.colab import drive\n",
        "drive.mount('/content/drive')"
      ]
    },
    {
      "cell_type": "code",
      "execution_count": 4,
      "metadata": {
        "colab": {
          "base_uri": "https://localhost:8080/"
        },
        "id": "513YBcXYvVM2",
        "outputId": "ccebde59-be2a-46b7-e7e6-1677117ab362"
      },
      "outputs": [
        {
          "name": "stdout",
          "output_type": "stream",
          "text": [
            "Phiên bản scikit-learn: 1.6.1\n"
          ]
        }
      ],
      "source": [
        "import sklearn\n",
        "print(\"Phiên bản scikit-learn:\", sklearn.__version__)"
      ]
    },
    {
      "cell_type": "code",
      "execution_count": 7,
      "metadata": {
        "colab": {
          "base_uri": "https://localhost:8080/"
        },
        "id": "35egjiQXvbxT",
        "outputId": "0ca620c9-8c90-4bb4-e277-82dbc30c32ed"
      },
      "outputs": [
        {
          "name": "stdout",
          "output_type": "stream",
          "text": [
            "DecisionTreeClassifier(random_state=42)\n"
          ]
        }
      ],
      "source": [
        " import pickle\n",
        "\n",
        "\n",
        " with open('decision_tree_ACI.pkl', 'rb') as f:\n",
        "  model = pickle.load(f)\n",
        "\n",
        "\n",
        " # Kiểm tra thông tin về mô hình\n",
        " print(model)\n",
        "\n",
        "\n",
        " # Nếu cần, kiểm tra các thuộc tính của mô hình\n",
        " # Ví dụ: model.feature_names_in_, model.classes_"
      ]
    }
  ],
  "metadata": {
    "colab": {
      "provenance": []
    },
    "kernelspec": {
      "display_name": "Python 3",
      "name": "python3"
    },
    "language_info": {
      "codemirror_mode": {
        "name": "ipython",
        "version": 3
      },
      "file_extension": ".py",
      "mimetype": "text/x-python",
      "name": "python",
      "nbconvert_exporter": "python",
      "pygments_lexer": "ipython3",
      "version": "3.11.9"
    }
  },
  "nbformat": 4,
  "nbformat_minor": 0
}
